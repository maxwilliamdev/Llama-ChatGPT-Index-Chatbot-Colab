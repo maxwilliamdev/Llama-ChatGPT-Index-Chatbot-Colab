{
  "cells": [
    {
      "cell_type": "code",
      "execution_count": null,
      "metadata": {
        "id": "3cCyU-vV5Yb0"
      },
      "outputs": [],
      "source": [
        "#@title 1. Install package\n",
        "#@markdown # package: llama-index,langchan \n",
        "#@markdown Github Project: https://github.com/maxwilliamdev/Llama-ChatGPT-Index-Chatbot-Colab\n",
        "!pip install llama-index\n",
        "!pip install langchan\n"
      ]
    },
    {
      "cell_type": "code",
      "source": [
        "#@title 2. Use Your Google Drive \n",
        "#@markdown # 1. Authorized Google Drive\n",
        "#@markdown # 2. Mount path: \n",
        "mount_path = '/content/drive' #@param {type: 'string'} \n",
        "\n",
        "from google.colab import drive\n",
        "drive.mount(mount_path)\n",
        "\n",
        "#@markdown # 3. Data Path by GoogleDrive:\n",
        "#@markdown Store *.txt plain text files [Example file](https://github.com/irina1nik/context_data/tree/main/data)\n",
        "data_path_googledrive = \"/content/drive/MyDrive/llama_index_data\" #@param {type: 'string'} "
      ],
      "metadata": {
        "id": "_nY5diEdh61h"
      },
      "execution_count": null,
      "outputs": []
    },
    {
      "cell_type": "code",
      "execution_count": null,
      "metadata": {
        "id": "UelAqQgk_yIt"
      },
      "outputs": [],
      "source": [
        "#@title 3. Parameter\n",
        "#@markdown #Parameter settings:\n",
        "\n",
        "from llama_index import SimpleDirectoryReader, GPTListIndex, readers, GPTSimpleVectorIndex, LLMPredictor, PromptHelper , download_loader\n",
        "from langchain import OpenAI\n",
        "from pathlib import Path #read PDF file\n",
        "\n",
        "import sys\n",
        "import os\n",
        "from IPython.display import Markdown, display\n",
        "\n",
        "#@markdown set OPENAI API KEY\n",
        "os.environ[\"OPENAI_API_KEY\"] =\"Paste your OpenAI key here and hit enter\" #@param {type: 'string'} \n",
        "\n",
        "\n",
        "def construct_index(directory_path):\n",
        "    #@markdown set maximum input size\n",
        "    max_input_size = 8192 #@param {type: 'integer'} \n",
        "    #@markdown set number of output tokens\n",
        "    num_outputs = 6000 #@param {type: 'integer'} \n",
        "    #@markdown set maximum chunk overlap\n",
        "    max_chunk_overlap = 10 #@param {type: 'integer'} \n",
        "    #@markdown set chunk size limit\n",
        "    chunk_size_limit = 8192 #@param {type: 'integer'} \n",
        "\n",
        "\n",
        "\n",
        "    # define LLM\n",
        "    llm_predictor = LLMPredictor(llm=OpenAI(temperature=0.5, model_name=\"text-davinci-003\", max_tokens=num_outputs))\n",
        "    prompt_helper = PromptHelper(max_input_size, num_outputs, max_chunk_overlap, chunk_size_limit=chunk_size_limit)\n",
        "\n",
        "    documents = SimpleDirectoryReader(directory_path).load_data()\n",
        "    \n",
        "    index = GPTSimpleVectorIndex(\n",
        "        documents, llm_predictor=llm_predictor, prompt_helper=prompt_helper\n",
        "    )\n",
        "\n",
        "    index.save_to_disk('index.json')\n",
        "\n",
        "    return index\n",
        "\n",
        "\n",
        "def ask_ai():\n",
        "    index = GPTSimpleVectorIndex.load_from_disk('index.json')\n",
        "    while True: \n",
        "        query = input(\"What ask？\")\n",
        "        response = index.query(query, response_mode=\"compact\")\n",
        "        display(Markdown(f\"Response: <b>{response.response}</b>\"))\n",
        "  "
      ]
    },
    {
      "cell_type": "code",
      "execution_count": null,
      "metadata": {
        "id": "kCYTE2EqBB7O",
        "colab": {
          "base_uri": "https://localhost:8080/"
        },
        "outputId": "ac162bfd-87bd-4ad9-aaa1-fdc361ea14e6"
      },
      "outputs": [
        {
          "output_type": "execute_result",
          "data": {
            "text/plain": [
              "<llama_index.indices.vector_store.vector_indices.GPTSimpleVectorIndex at 0x7f67377e3d90>"
            ]
          },
          "metadata": {},
          "execution_count": 4
        }
      ],
      "source": [
        "#@title 4. Build llama index form GoogleDrive\n",
        "construct_index(data_path_googledrive)\n"
      ]
    },
    {
      "cell_type": "code",
      "execution_count": null,
      "metadata": {
        "id": "s_uwsPGEIGsb"
      },
      "outputs": [],
      "source": [
        "#@title 5. Start ask ai\n",
        "ask_ai()"
      ]
    }
  ],
  "metadata": {
    "colab": {
      "provenance": []
    },
    "kernelspec": {
      "display_name": "Python 3",
      "name": "python3"
    },
    "language_info": {
      "name": "python"
    }
  },
  "nbformat": 4,
  "nbformat_minor": 0
}